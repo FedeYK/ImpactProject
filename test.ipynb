{
 "cells": [
  {
   "cell_type": "code",
   "execution_count": 3,
   "metadata": {},
   "outputs": [],
   "source": [
    "import pandas as pd\n",
    "import numpy as np\n",
    "import matplotlib.pyplot as plt"
   ]
  },
  {
   "cell_type": "code",
   "execution_count": 25,
   "metadata": {},
   "outputs": [],
   "source": [
    "# ad_orig = pd.read_excel('Addresses_Original.xlsx', header=None)\n",
    "# ad_orig.to_csv('Addresses_Orig_csv.csv', index=False, header=False)"
   ]
  },
  {
   "cell_type": "code",
   "execution_count": 7,
   "metadata": {},
   "outputs": [],
   "source": [
    "# Reading data\n",
    "ad_orig = []\n",
    "\n",
    "replacements = {\n",
    "    #\";\", \",\"\n",
    "    '\"': \"\",\n",
    "    \"º\": \"ND\",\n",
    "    \"Á\": \"A\",\n",
    "    \"É\": \"E\",\n",
    "    \"Í\": \"I\",\n",
    "    \"Ó\": \"O\",\n",
    "    \"Ú\": \"U\",\n",
    "    \"Ñ\": \"N\",\n",
    "    \"Ü\": \"U\",\n",
    "    \"C/\": \"CALLE\",\n",
    "    \"C /\": \"CALLE\",\n",
    "    \"AVDA\": \"AVENIDA\",\n",
    "    \"CTRA\": \"Carretera\"\n",
    "}\n",
    "\n",
    "# Opening and performing alterations\n",
    "with open('Addresses_Orig_csv.csv', encoding='utf-8') as file:\n",
    "    for line in file:\n",
    "        line = line.upper()\n",
    "        for key, value in replacements.items():\n",
    "            line = line.replace(key, value)\n",
    "        \n",
    "        ad_orig.append(line.strip())\n",
    "    "
   ]
  },
  {
   "cell_type": "code",
   "execution_count": null,
   "metadata": {},
   "outputs": [],
   "source": [
    "# ad_orig"
   ]
  },
  {
   "cell_type": "code",
   "execution_count": 5,
   "metadata": {},
   "outputs": [],
   "source": [
    "# From the list, create a dataframe\n",
    "ad_orig = pd.DataFrame(ad_orig)\n",
    "\n",
    "# Save it as CSV\n",
    "ad_orig.to_csv('Add_nosc_csv.csv', index=False, header=False, encoding='utf-8')\n"
   ]
  }
 ],
 "metadata": {
  "kernelspec": {
   "display_name": "myenv",
   "language": "python",
   "name": "myenv"
  },
  "language_info": {
   "codemirror_mode": {
    "name": "ipython",
    "version": 3
   },
   "file_extension": ".py",
   "mimetype": "text/x-python",
   "name": "python",
   "nbconvert_exporter": "python",
   "pygments_lexer": "ipython3",
   "version": "3.9.13"
  },
  "orig_nbformat": 4
 },
 "nbformat": 4,
 "nbformat_minor": 2
}
