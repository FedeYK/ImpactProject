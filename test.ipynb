{
 "cells": [
  {
   "cell_type": "code",
   "execution_count": 10,
   "metadata": {},
   "outputs": [],
   "source": [
    "import pandas as pd\n",
    "import numpy as np\n",
    "import matplotlib.pyplot as plt"
   ]
  },
  {
   "cell_type": "code",
   "execution_count": 25,
   "metadata": {},
   "outputs": [],
   "source": [
    "# ad_orig = pd.read_excel('Addresses_Original.xlsx', header=None)\n",
    "# ad_orig.to_csv('Addresses_Orig_csv.csv', index=False, header=False)"
   ]
  },
  {
   "cell_type": "code",
   "execution_count": 37,
   "metadata": {},
   "outputs": [],
   "source": [
    "# Read in the data\n",
    "ad_orig = []\n",
    "\n",
    "# Open the file to interact with it\n",
    "with open('Addresses_Orig_csv.csv', encoding='utf-8') as file:\n",
    "    for line in file:\n",
    "        if \";\" in line:\n",
    "            line = line.replace(\";\", \",\")\n",
    "        if '\"' in line:\n",
    "            line = line.replace('\"', \"\")\n",
    "        ad_orig.append(line.strip())\n",
    "    "
   ]
  },
  {
   "cell_type": "code",
   "execution_count": 39,
   "metadata": {},
   "outputs": [],
   "source": [
    "# From the list, create a dataframe\n",
    "ad_orig = pd.DataFrame(ad_orig)\n",
    "# Save it as CSV\n",
    "ad_orig.to_csv('Add_nosc_csv.csv', index=False, header=False, encoding='utf-8')\n"
   ]
  }
 ],
 "metadata": {
  "kernelspec": {
   "display_name": ".venv",
   "language": "python",
   "name": "python3"
  },
  "language_info": {
   "codemirror_mode": {
    "name": "ipython",
    "version": 3
   },
   "file_extension": ".py",
   "mimetype": "text/x-python",
   "name": "python",
   "nbconvert_exporter": "python",
   "pygments_lexer": "ipython3",
   "version": "3.11.1"
  },
  "orig_nbformat": 4
 },
 "nbformat": 4,
 "nbformat_minor": 2
}
