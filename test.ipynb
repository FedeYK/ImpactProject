{
 "cells": [
  {
   "cell_type": "code",
   "execution_count": 6,
   "metadata": {},
   "outputs": [],
   "source": [
    "import pandas as pd\n",
    "import numpy as np\n",
    "import matplotlib.pyplot as plt"
   ]
  },
  {
   "cell_type": "code",
   "execution_count": 25,
   "metadata": {},
   "outputs": [],
   "source": [
    "# ad_orig = pd.read_excel('Addresses_Original.xlsx', header=None)\n",
    "# ad_orig.to_csv('Addresses_Orig_csv.csv', index=False, header=False)"
   ]
  },
  {
   "cell_type": "code",
   "execution_count": 14,
   "metadata": {},
   "outputs": [],
   "source": [
    "# Read in the data\n",
    "ad_orig = []\n",
    "\n",
    "# Open the file to interact with it\n",
    "with open('Addresses_Orig_csv.csv', encoding='utf-8') as file:\n",
    "    for line in file:\n",
    "        line = line.upper()  # Convert line to uppercase\n",
    "        #if \";\" in line:\n",
    "        #    line = line.replace(\";\", \",\")\n",
    "        if '\"' in line:\n",
    "            line = line.replace('\"', \"\")\n",
    "        \n",
    "        if \"º\" in line:\n",
    "            line = line.replace(\"º\", \"ND\")\n",
    "        if \"Á\" in line:\n",
    "            line = line.replace(\"Á\", \"A\")\n",
    "        if \"É\" in line:\n",
    "            line = line.replace(\"É\", \"E\")\n",
    "        if \"Í\" in line:\n",
    "            line = line.replace(\"Í\", \"I\")\n",
    "        if \"Ó\" in line:\n",
    "            line = line.replace(\"Ó\", \"O\")\n",
    "        if \"Ú\" in line:\n",
    "            line = line.replace(\"Ú\", \"U\")\n",
    "        if \"á\" in line:\n",
    "            line = line.replace(\"á\", \"A\")\n",
    "        if \"é\" in line:\n",
    "            line = line.replace(\"é\", \"E\")\n",
    "        if \"í\" in line:\n",
    "            line = line.replace(\"í\", \"I\")\n",
    "        if \"ó\" in line:\n",
    "            line = line.replace(\"ó\", \"O\")\n",
    "        if \"ú\" in line:\n",
    "            line = line.replace(\"ú\", \"U\")\n",
    "        if \"Ñ\" in line:\n",
    "            line = line.replace(\"Ñ\", \"N\")\n",
    "        if \"ñ\" in line:\n",
    "            line = line.replace(\"ñ\", \"N\")\n",
    "        if \"Ü\" in line:\n",
    "            line = line.replace(\"Ü\", \"U\")\n",
    "        if \"ü\" in line:\n",
    "            line = line.replace(\"ü\", \"U\")\n",
    "        if \"C/\" in line:\n",
    "            line = line.replace(\"C/\", \"CALLE\")\n",
    "        if \"C /\" in line:\n",
    "            line = line.replace(\"C /\", \"CALLE\")\n",
    "        if \"AVDA\" in line:\n",
    "            line = line.replace(\"AVDA\", \"AVENIDA\")\n",
    "        \n",
    "        ad_orig.append(line.strip())\n",
    "\n",
    "    "
   ]
  },
  {
   "cell_type": "code",
   "execution_count": null,
   "metadata": {},
   "outputs": [],
   "source": [
    "# ad_orig"
   ]
  },
  {
   "cell_type": "code",
   "execution_count": 13,
   "metadata": {},
   "outputs": [],
   "source": [
    "# From the list, create a dataframe\n",
    "ad_orig = pd.DataFrame(ad_orig)\n",
    "# Save it as CSV\n",
    "ad_orig.to_csv('Add_nosc_csv.csv', index=False, header=False, encoding='utf-8')\n"
   ]
  }
 ],
 "metadata": {
  "kernelspec": {
   "display_name": "myenv",
   "language": "python",
   "name": "myenv"
  },
  "language_info": {
   "codemirror_mode": {
    "name": "ipython",
    "version": 3
   },
   "file_extension": ".py",
   "mimetype": "text/x-python",
   "name": "python",
   "nbconvert_exporter": "python",
   "pygments_lexer": "ipython3",
   "version": "3.9.13"
  },
  "orig_nbformat": 4
 },
 "nbformat": 4,
 "nbformat_minor": 2
}
